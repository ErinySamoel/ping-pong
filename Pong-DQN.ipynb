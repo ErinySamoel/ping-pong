{
 "cells": [
  {
   "cell_type": "code",
   "execution_count": 1,
   "metadata": {
    "id": "1XDvssQd64Pf"
   },
   "outputs": [],
   "source": [
    "!apt-get install -y xvfb python-opengl > /dev/null 2>&1"
   ]
  },
  {
   "cell_type": "code",
   "execution_count": 2,
   "metadata": {
    "id": "F5esgX013vPe"
   },
   "outputs": [],
   "source": [
    "!pip install gym pyvirtualdisplay > /dev/null 2>&1"
   ]
  },
  {
   "cell_type": "code",
   "execution_count": 3,
   "metadata": {
    "colab": {
     "base_uri": "https://localhost:8080/"
    },
    "id": "cKNVFIKKAGnv",
    "outputId": "34a3e556-34ec-426d-a2fa-e2b695328a34"
   },
   "outputs": [
    {
     "name": "stdout",
     "output_type": "stream",
     "text": [
      "Looking in indexes: https://pypi.org/simple, https://us-python.pkg.dev/colab-wheels/public/simple/\n",
      "Collecting ale-py==0.7\n",
      "  Downloading ale_py-0.7-cp37-cp37m-manylinux_2_17_x86_64.manylinux2014_x86_64.whl (1.6 MB)\n",
      "\u001b[K     |████████████████████████████████| 1.6 MB 4.9 MB/s \n",
      "\u001b[?25hRequirement already satisfied: importlib-metadata in /usr/local/lib/python3.7/dist-packages (from ale-py==0.7) (4.11.3)\n",
      "Requirement already satisfied: numpy in /usr/local/lib/python3.7/dist-packages (from ale-py==0.7) (1.21.6)\n",
      "Requirement already satisfied: importlib-resources in /usr/local/lib/python3.7/dist-packages (from ale-py==0.7) (5.7.1)\n",
      "Requirement already satisfied: zipp>=0.5 in /usr/local/lib/python3.7/dist-packages (from importlib-metadata->ale-py==0.7) (3.8.0)\n",
      "Requirement already satisfied: typing-extensions>=3.6.4 in /usr/local/lib/python3.7/dist-packages (from importlib-metadata->ale-py==0.7) (4.2.0)\n",
      "Installing collected packages: ale-py\n",
      "Successfully installed ale-py-0.7\n"
     ]
    }
   ],
   "source": [
    "!pip install ale-py==0.7\n"
   ]
  },
  {
   "cell_type": "code",
   "execution_count": 4,
   "metadata": {
    "colab": {
     "base_uri": "https://localhost:8080/"
    },
    "id": "9WujzRLyAVgX",
    "outputId": "23ad79f0-a416-46ca-954d-88e15465cb12"
   },
   "outputs": [
    {
     "name": "stdout",
     "output_type": "stream",
     "text": [
      "Looking in indexes: https://pypi.org/simple, https://us-python.pkg.dev/colab-wheels/public/simple/\n",
      "Collecting gym==0.19\n",
      "  Downloading gym-0.19.0.tar.gz (1.6 MB)\n",
      "\u001b[K     |████████████████████████████████| 1.6 MB 4.9 MB/s \n",
      "\u001b[?25hRequirement already satisfied: numpy>=1.18.0 in /usr/local/lib/python3.7/dist-packages (from gym==0.19) (1.21.6)\n",
      "Requirement already satisfied: cloudpickle<1.7.0,>=1.2.0 in /usr/local/lib/python3.7/dist-packages (from gym==0.19) (1.3.0)\n",
      "Building wheels for collected packages: gym\n",
      "  Building wheel for gym (setup.py) ... \u001b[?25l\u001b[?25hdone\n",
      "  Created wheel for gym: filename=gym-0.19.0-py3-none-any.whl size=1663116 sha256=ec5485d5e4fe24af5f0d7f2afbd364a7838c38962828783c95f4ec589eff80d0\n",
      "  Stored in directory: /root/.cache/pip/wheels/ef/9d/70/8bea53f7edec2fdb4f98d9d64ac9f11aea95dfcb98099d7712\n",
      "Successfully built gym\n",
      "Installing collected packages: gym\n",
      "  Attempting uninstall: gym\n",
      "    Found existing installation: gym 0.17.3\n",
      "    Uninstalling gym-0.17.3:\n",
      "      Successfully uninstalled gym-0.17.3\n",
      "Successfully installed gym-0.19.0\n"
     ]
    }
   ],
   "source": [
    "!pip install gym==0.19\n"
   ]
  },
  {
   "cell_type": "code",
   "execution_count": 5,
   "metadata": {
    "colab": {
     "base_uri": "https://localhost:8080/"
    },
    "id": "DaT0dMMIAYb2",
    "outputId": "a1b30dc2-0527-4e52-a464-544210c8c870"
   },
   "outputs": [
    {
     "name": "stdout",
     "output_type": "stream",
     "text": [
      "Looking in indexes: https://pypi.org/simple, https://us-python.pkg.dev/colab-wheels/public/simple/\n",
      "Requirement already satisfied: gym[atari] in /usr/local/lib/python3.7/dist-packages (0.19.0)\n",
      "Requirement already satisfied: cloudpickle<1.7.0,>=1.2.0 in /usr/local/lib/python3.7/dist-packages (from gym[atari]) (1.3.0)\n",
      "Requirement already satisfied: numpy>=1.18.0 in /usr/local/lib/python3.7/dist-packages (from gym[atari]) (1.21.6)\n",
      "Collecting atari-py==0.2.6\n",
      "  Downloading atari_py-0.2.6-cp37-cp37m-manylinux1_x86_64.whl (2.8 MB)\n",
      "\u001b[K     |████████████████████████████████| 2.8 MB 5.1 MB/s \n",
      "\u001b[?25hRequirement already satisfied: opencv-python>=3. in /usr/local/lib/python3.7/dist-packages (from gym[atari]) (4.1.2.30)\n",
      "Requirement already satisfied: six in /usr/local/lib/python3.7/dist-packages (from atari-py==0.2.6->gym[atari]) (1.15.0)\n",
      "\u001b[33mWARNING: The candidate selected for download or install is a yanked version: 'atari-py' candidate (version 0.2.6 at https://files.pythonhosted.org/packages/8f/ba/1d22e9d2f332f07aaa57041f5dd569c2cb40a92bd6374a0b743ec3dfae97/atari_py-0.2.6-cp37-cp37m-manylinux1_x86_64.whl#sha256=d9e2c25d39783867c2f29d1dd9d3a659fc56036456d07dc9efe8bd7bb31a07d7 (from https://pypi.org/simple/atari-py/))\n",
      "Reason for being yanked: re-release with new wheels\u001b[0m\n",
      "Installing collected packages: atari-py\n",
      "  Attempting uninstall: atari-py\n",
      "    Found existing installation: atari-py 0.2.9\n",
      "    Uninstalling atari-py-0.2.9:\n",
      "      Successfully uninstalled atari-py-0.2.9\n",
      "Successfully installed atari-py-0.2.6\n"
     ]
    }
   ],
   "source": [
    "!pip install gym[atari]\n"
   ]
  },
  {
   "cell_type": "code",
   "execution_count": 30,
   "metadata": {
    "id": "Qbi2xaFo31Sj"
   },
   "outputs": [],
   "source": [
    "import gym\n",
    "import numpy as np\n",
    "import matplotlib.pyplot as plt\n",
    "from IPython import display as ipythondisplay"
   ]
  },
  {
   "cell_type": "code",
   "execution_count": 31,
   "metadata": {
    "colab": {
     "base_uri": "https://localhost:8080/"
    },
    "id": "FGqXqJxoAsHG",
    "outputId": "b8aa5bff-5b93-4f4d-a011-b93c3ba673d6"
   },
   "outputs": [
    {
     "data": {
      "text/plain": [
       "<pyvirtualdisplay.display.Display at 0x7f8ceeeb7f50>"
      ]
     },
     "execution_count": 31,
     "metadata": {},
     "output_type": "execute_result"
    }
   ],
   "source": [
    "from pyvirtualdisplay import Display\n",
    "display = Display(visible=0, size=(400, 300))\n",
    "display.start()\n",
    "#import urllib.request\n"
   ]
  },
  {
   "cell_type": "code",
   "execution_count": 32,
   "metadata": {
    "id": "shEFxNaUeusz"
   },
   "outputs": [],
   "source": [
    "import gym\n",
    "import cv2\n",
    "from collections import deque,namedtuple\n",
    "import numpy as np\n",
    "import random\n",
    "from keras.models import Sequential\n",
    "from keras.layers import Conv2D,Flatten,Dense\n",
    "#from keras.optimizers import Adam\n",
    "from tensorflow.keras.optimizers import Adam\n",
    "\n",
    "conv = namedtuple('Conv', 'filter kernel stride')"
   ]
  },
  {
   "cell_type": "code",
   "execution_count": 33,
   "metadata": {
    "id": "Awcj7x1TNfMf"
   },
   "outputs": [],
   "source": [
    "class Buffer:\n",
    "\tdef __init__(self,size):\n",
    "\t\tself.size = size\n",
    "\t\tself.buffer = deque()\n",
    "\tdef add(self,s,a,r,s2,t):\n",
    "\t\ts = np.stack((s[0],s[1],s[2],s[3]),axis=2)\n",
    "\t\ts2 = np.stack((s2[0],s2[1],s2[2],s2[3]),axis=2)\n",
    "\t\tif len(self.buffer) < self.size:\n",
    "\t\t\tself.buffer.appendleft((s,a,r,s2,t))\n",
    "\t\telse:\n",
    "\t\t\tself.buffer.pop()\n",
    "\t\t\tself.buffer.appendleft((s,a,r,s2,t))\n",
    "\tdef sample(self,batch_size):\n",
    "\t\treturn random.sample(self.buffer,batch_size)"
   ]
  },
  {
   "cell_type": "code",
   "execution_count": 34,
   "metadata": {
    "id": "x8Yx8_qRN8gq"
   },
   "outputs": [],
   "source": [
    "class DQN:\n",
    "\tdef __init__(self,buff,batch_size=32,min_buff=10000,gamma=0.99,learning_rate=2.5e-4):\n",
    "\t\tself.buffer = buff\n",
    "\t\tself.min_buffer = min_buff\n",
    "\t\tself.batch_size = batch_size\n",
    "\t\tself.gamma = gamma\n",
    "\t\t\n",
    "\t\tself.model = create_network(learning_rate)\n",
    "\t\tself.target_model = create_network(learning_rate)\n",
    "\t\tself.copy_network()\n",
    "\n",
    "\tdef train(self):\n",
    "\t\tif len(self.buffer.buffer) < self.min_buffer:\n",
    "\t\t\treturn\n",
    "\t\tstates,actions,rewards,next_states,terminal = map(np.array,zip(*self.buffer.sample(self.batch_size)))\n",
    "\t\tnext_state_action_values = np.max(self.target_model.predict(next_states),axis=1)\n",
    "\t\ttargets = self.model.predict(states)\n",
    "\t\ttargets[range(self.batch_size), actions] = rewards + self.gamma*next_state_action_values*np.invert(terminal)\n",
    "\t\tself.model.train_on_batch(states, targets)\n",
    "\n",
    "\tdef copy_network(self):\n",
    "\t\tfrm = self.model\n",
    "\t\tto = self.target_model\n",
    "\t\tfor l_tg,l_sr in zip(to.layers,frm.layers):\n",
    "\t\t\twk = l_sr.get_weights()\n",
    "\t\t\tl_tg.set_weights(wk)\n",
    "\n",
    "\tdef predict(self,x):\n",
    "\t\ts = np.stack((x[0],x[1],x[2],x[3]),axis=2)\n",
    "\t\treturn self.model.predict(np.array([s]))"
   ]
  },
  {
   "cell_type": "code",
   "execution_count": 35,
   "metadata": {
    "id": "MiLpbPrAODUK"
   },
   "outputs": [],
   "source": [
    "def create_network(learning_rate,conv_info=[conv(32,8,4),conv(64,4,2),conv(64,3,1)],dense_info=[512],input_size=(80,80,4)):\n",
    "\tmodel = Sequential()\n",
    "\tfor i,cl in enumerate(conv_info):\n",
    "\t\tif i==0:\n",
    "\t\t\tmodel.add(Conv2D(cl.filter,cl.kernel,padding=\"same\",strides=cl.stride,activation=\"relu\", input_shape=input_size))\n",
    "\t\telse:\n",
    "\t\t\tmodel.add(Conv2D(cl.filter,cl.kernel,padding=\"same\",strides=cl.stride,activation=\"relu\"))\n",
    "\tmodel.add(Flatten())\n",
    "\tfor dl in dense_info:\n",
    "\t\tmodel.add(Dense(dl,activation=\"relu\"))\n",
    "\tmodel.add(Dense(6))\n",
    "\tadam = Adam(lr=learning_rate)\n",
    "\tmodel.compile(loss='mse',optimizer=adam)\n",
    "\treturn model"
   ]
  },
  {
   "cell_type": "code",
   "execution_count": 36,
   "metadata": {
    "id": "j0q89pgZxDez"
   },
   "outputs": [],
   "source": [
    "class Pong:\n",
    "    def __init__(self):\n",
    "\n",
    "        self.env = gym.make('PongNoFrameskip-v4')\n",
    "        \n",
    "        self.epsilon = 1\n",
    "        self.memory = Buffer(500)\n",
    "        self.dqn = DQN(self.memory)\n",
    "        self.copy_period = 400\n",
    "        self.itr = 0\n",
    "        self.eps_step = 0.09\n",
    "    def choose_action(self, s):\n",
    "        if random.random() < self.epsilon:\n",
    "            return self.env.action_space.sample()\n",
    "        return np.argmax(self.dqn.predict(s)[0])\n",
    "    def play_one_episode(self):\n",
    "        start_time=time.time()\n",
    "        observation = self.env.reset()  \n",
    "        prev_screen = self.env.render(mode='rgb_array')\n",
    "        plt.imshow(prev_screen)   \n",
    "        done = False\n",
    "        state = []\n",
    "        update_state(state, observation)\n",
    "        prv_state = []\n",
    "        total_reward = 0\n",
    "        while not done:\n",
    "            screen = self.env.render(mode='rgb_array')\n",
    "            plt.imshow(screen)\n",
    "            ipythondisplay.clear_output(wait=True)\n",
    "            ipythondisplay.display(plt.gcf())\n",
    "            \n",
    "            if len(state) < 4:\n",
    "                action = self.env.action_space.sample()\n",
    "            else:\n",
    "                action = self.choose_action(state)\n",
    "\n",
    "            prv_state.append(state[-1])\n",
    "            if len(prv_state) > 4:\n",
    "                prv_state.pop(0)\n",
    "            observation, reward, done, _ = self.env.step(action)\n",
    "\n",
    "            update_state(state, observation)\n",
    "            if len(state) == 4 and len(prv_state) == 4:\n",
    "                self.memory.add(prv_state, action, reward, state, done)\n",
    "            total_reward += reward\n",
    "\n",
    "            self.itr += 1\n",
    "            if self.itr % 4 == 0:\n",
    "                self.dqn.train()\n",
    "            self.epsilon = max(0.1, self.epsilon - self.eps_step)\n",
    "            if self.itr % self.copy_period == 0:\n",
    "                self.dqn.copy_network()\n",
    "\n",
    "\n",
    "            ipythondisplay.clear_output(wait=True)\n",
    "\n",
    "        end_time=time.time()\n",
    "        print(f\"time for episode{i} is {end_time-start_time}\")\n",
    "            \n",
    "        return total_reward"
   ]
  },
  {
   "cell_type": "code",
   "execution_count": 37,
   "metadata": {
    "id": "SMfKlM91bxxj"
   },
   "outputs": [],
   "source": [
    "import time\n",
    "def downsample(observation):\n",
    "\ts = cv2.cvtColor(observation[30:,:,:], cv2.COLOR_BGR2GRAY)\n",
    "\ts = cv2.resize(s, (80,80), interpolation = cv2.INTER_AREA) \n",
    "\ts = s/255.0\n",
    "\treturn s\n",
    "\t\t\n",
    "def update_state(state,observation):\n",
    "\tds_observation = downsample(observation)\n",
    "\tstate.append(ds_observation)\n",
    "\tif len(state) > 4:\n",
    "\n",
    "\t\tstate.pop(0)"
   ]
  },
  {
   "cell_type": "code",
   "execution_count": null,
   "metadata": {
    "colab": {
     "base_uri": "https://localhost:8080/",
     "height": 269
    },
    "id": "OEZJOvegOeQv",
    "outputId": "5ac98d28-10cc-4ea6-d77f-8c42c7e7db98"
   },
   "outputs": [
    {
     "data": {
      "image/png": "[encoded data removed]",
      "text/plain": [
       "<Figure size 432x288 with 1 Axes>"
      ]
     },
     "metadata": {},
     "output_type": "display_data"
    }
   ],
   "source": [
    "p = Pong()\n",
    "for i in range(100):\n",
    "\ttotal_reward = p.play_one_episode()\n",
    "\tprint(\"episode total reward:\",total_reward)\n",
    "\tif i%10 == 0:\n",
    "\t\tprint(\"Saving the model\")\n",
    "\t\tp.dqn.model.save(\"model-{}.h5\".format(i))"
   ]
  },
  {
   "cell_type": "code",
   "execution_count": null,
   "metadata": {
    "id": "hZCE_RTOJubg"
   },
   "outputs": [],
   "source": [
    "from IPython.display import clear_output , display\n",
    "env = gym.make('PongNoFrameskip-v4')\n",
    "env.reset()\n",
    "p = Pong()\n",
    "for i in range(100000):\n",
    "\ttotal_reward = p.play_one_episode()\n",
    "\tprint(\"episode total reward:\",total_reward)\n",
    "\tif i%100 == 0:\n",
    "\t\tprint(\"Saving the model\")\n",
    "\t\tp.dqn.model.save(\"model-{}.h5\".format(i))"
   ]
  },
  {
   "cell_type": "code",
   "execution_count": null,
   "metadata": {
    "id": "bKH2kk9VI3Ha"
   },
   "outputs": [],
   "source": [
    "env = gym.make(\"PongNoFrameskip-v4\")\n",
    "done=False\n",
    "\n",
    "for i in range(5):\n",
    "  env.reset()\n",
    "  prev_screen = env.render(mode='rgb_array')\n",
    "  plt.imshow(prev_screen)\n",
    "  while not done:\n",
    "        screen = env.render(mode='rgb_array')\n",
    "        plt.imshow(screen)\n",
    "        ipythondisplay.clear_output(wait=True)\n",
    "        ipythondisplay.display(plt.gcf())\n",
    "        action = env.action_space.sample()\n",
    "        obs, reward, done, info = env.step(action)\n",
    "        if done:\n",
    "                break\n",
    "\n",
    "\n",
    "        ipythondisplay.clear_output(wait=True)\n",
    "  \n",
    "    \n",
    "#env.close()"
   ]
  },
  {
   "cell_type": "code",
   "execution_count": 10,
   "metadata": {
    "colab": {
     "base_uri": "https://localhost:8080/"
    },
    "id": "xoantCmXAtSN",
    "outputId": "732d3043-9625-48fb-b797-e979c29a80c8"
   },
   "outputs": [
    {
     "data": {
      "text/plain": [
       "<pyvirtualdisplay.display.Display at 0x7fd8e5b65f90>"
      ]
     },
     "execution_count": 10,
     "metadata": {},
     "output_type": "execute_result"
    }
   ],
   "source": [
    "display.stop()"
   ]
  },
  {
   "cell_type": "code",
   "execution_count": 7,
   "metadata": {
    "colab": {
     "base_uri": "https://localhost:8080/"
    },
    "id": "NQGi32xd3vAt",
    "outputId": "57ca49d9-8edb-4d8c-8eb3-21ee0dc69a94"
   },
   "outputs": [
    {
     "name": "stdout",
     "output_type": "stream",
     "text": [
      "sample_data  shen\n"
     ]
    }
   ],
   "source": [
    "!mkdir shen\n",
    "!ls"
   ]
  }
 ],
 "metadata": {
  "accelerator": "GPU",
  "colab": {
   "collapsed_sections": [],
   "name": "GymRendering.ipynb",
   "provenance": []
  },
  "kernelspec": {
   "display_name": "Python 3",
   "language": "python",
   "name": "python3"
  },
  "language_info": {
   "codemirror_mode": {
    "name": "ipython",
    "version": 3
   },
   "file_extension": ".py",
   "mimetype": "text/x-python",
   "name": "python",
   "nbconvert_exporter": "python",
   "pygments_lexer": "ipython3",
   "version": "3.8.3"
  }
 },
 "nbformat": 4,
 "nbformat_minor": 1
}
